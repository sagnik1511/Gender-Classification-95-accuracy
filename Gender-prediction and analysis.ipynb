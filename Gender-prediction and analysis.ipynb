{
 "cells": [
  {
   "cell_type": "markdown",
   "metadata": {
    "papermill": {
     "duration": 0.030418,
     "end_time": "2020-11-07T06:04:07.935147",
     "exception": false,
     "start_time": "2020-11-07T06:04:07.904729",
     "status": "completed"
    },
    "tags": []
   },
   "source": [
    "# Libraries"
   ]
  },
  {
   "cell_type": "code",
   "execution_count": 1,
   "metadata": {
    "execution": {
     "iopub.execute_input": "2020-11-07T06:04:07.999750Z",
     "iopub.status.busy": "2020-11-07T06:04:07.999093Z",
     "iopub.status.idle": "2020-11-07T06:04:10.256425Z",
     "shell.execute_reply": "2020-11-07T06:04:10.255806Z"
    },
    "papermill": {
     "duration": 2.292733,
     "end_time": "2020-11-07T06:04:10.256561",
     "exception": false,
     "start_time": "2020-11-07T06:04:07.963828",
     "status": "completed"
    },
    "tags": []
   },
   "outputs": [],
   "source": [
    "import matplotlib.pyplot as plt\n",
    "import seaborn as srn\n",
    "import sklearn.model_selection\n",
    "import catboost as cbt\n",
    "import xgboost as xgb\n",
    "from sklearn.dummy import DummyClassifier\n",
    "from sklearn.ensemble import RandomForestClassifier\n",
    "from sklearn import svm\n",
    "from sklearn.naive_bayes import GaussianNB"
   ]
  },
  {
   "cell_type": "markdown",
   "metadata": {
    "papermill": {
     "duration": 0.028253,
     "end_time": "2020-11-07T06:04:10.314778",
     "exception": false,
     "start_time": "2020-11-07T06:04:10.286525",
     "status": "completed"
    },
    "tags": []
   },
   "source": [
    "# Data gathering and simple visualization"
   ]
  },
  {
   "cell_type": "code",
   "execution_count": 2,
   "metadata": {
    "_cell_guid": "b1076dfc-b9ad-4769-8c92-a6c4dae69d19",
    "_uuid": "8f2839f25d086af736a60e9eeb907d3b93b6e0e5",
    "execution": {
     "iopub.execute_input": "2020-11-07T06:04:10.378411Z",
     "iopub.status.busy": "2020-11-07T06:04:10.377601Z",
     "iopub.status.idle": "2020-11-07T06:04:10.383332Z",
     "shell.execute_reply": "2020-11-07T06:04:10.384058Z"
    },
    "papermill": {
     "duration": 0.041309,
     "end_time": "2020-11-07T06:04:10.384245",
     "exception": false,
     "start_time": "2020-11-07T06:04:10.342936",
     "status": "completed"
    },
    "tags": []
   },
   "outputs": [
    {
     "name": "stdout",
     "output_type": "stream",
     "text": [
      "/kaggle/input/gender-classification/Transformed Data Set - Sheet1.csv\n"
     ]
    }
   ],
   "source": [
    "# This Python 3 environment comes with many helpful analytics libraries installed\n",
    "# It is defined by the kaggle/python Docker image: https://github.com/kaggle/docker-python\n",
    "# For example, here's several helpful packages to load\n",
    "\n",
    "import numpy as np # linear algebra\n",
    "import pandas as pd # data processing, CSV file I/O (e.g. pd.read_csv)\n",
    "\n",
    "# Input data files are available in the read-only \"../input/\" directory\n",
    "# For example, running this (by clicking run or pressing Shift+Enter) will list all files under the input directory\n",
    "\n",
    "import os\n",
    "for dirname, _, filenames in os.walk('/kaggle/input'):\n",
    "    for filename in filenames:\n",
    "        print(os.path.join(dirname, filename))\n",
    "\n",
    "# You can write up to 20GB to the current directory (/kaggle/working/) that gets preserved as output when you create a version using \"Save & Run All\" \n",
    "# You can also write temporary files to /kaggle/temp/, but they won't be saved outside of the current session"
   ]
  },
  {
   "cell_type": "code",
   "execution_count": 3,
   "metadata": {
    "_cell_guid": "79c7e3d0-c299-4dcb-8224-4455121ee9b0",
    "_uuid": "d629ff2d2480ee46fbb7e2d37f6b5fab8052498a",
    "execution": {
     "iopub.execute_input": "2020-11-07T06:04:10.449612Z",
     "iopub.status.busy": "2020-11-07T06:04:10.448916Z",
     "iopub.status.idle": "2020-11-07T06:04:10.476476Z",
     "shell.execute_reply": "2020-11-07T06:04:10.475916Z"
    },
    "papermill": {
     "duration": 0.061813,
     "end_time": "2020-11-07T06:04:10.476584",
     "exception": false,
     "start_time": "2020-11-07T06:04:10.414771",
     "status": "completed"
    },
    "tags": []
   },
   "outputs": [
    {
     "data": {
      "text/html": [
       "<div>\n",
       "<style scoped>\n",
       "    .dataframe tbody tr th:only-of-type {\n",
       "        vertical-align: middle;\n",
       "    }\n",
       "\n",
       "    .dataframe tbody tr th {\n",
       "        vertical-align: top;\n",
       "    }\n",
       "\n",
       "    .dataframe thead th {\n",
       "        text-align: right;\n",
       "    }\n",
       "</style>\n",
       "<table border=\"1\" class=\"dataframe\">\n",
       "  <thead>\n",
       "    <tr style=\"text-align: right;\">\n",
       "      <th></th>\n",
       "      <th>Favorite Color</th>\n",
       "      <th>Favorite Music Genre</th>\n",
       "      <th>Favorite Beverage</th>\n",
       "      <th>Favorite Soft Drink</th>\n",
       "      <th>Gender</th>\n",
       "    </tr>\n",
       "  </thead>\n",
       "  <tbody>\n",
       "    <tr>\n",
       "      <th>0</th>\n",
       "      <td>Cool</td>\n",
       "      <td>Rock</td>\n",
       "      <td>Vodka</td>\n",
       "      <td>7UP/Sprite</td>\n",
       "      <td>F</td>\n",
       "    </tr>\n",
       "    <tr>\n",
       "      <th>1</th>\n",
       "      <td>Neutral</td>\n",
       "      <td>Hip hop</td>\n",
       "      <td>Vodka</td>\n",
       "      <td>Coca Cola/Pepsi</td>\n",
       "      <td>F</td>\n",
       "    </tr>\n",
       "    <tr>\n",
       "      <th>2</th>\n",
       "      <td>Warm</td>\n",
       "      <td>Rock</td>\n",
       "      <td>Wine</td>\n",
       "      <td>Coca Cola/Pepsi</td>\n",
       "      <td>F</td>\n",
       "    </tr>\n",
       "    <tr>\n",
       "      <th>3</th>\n",
       "      <td>Warm</td>\n",
       "      <td>Folk/Traditional</td>\n",
       "      <td>Whiskey</td>\n",
       "      <td>Fanta</td>\n",
       "      <td>F</td>\n",
       "    </tr>\n",
       "    <tr>\n",
       "      <th>4</th>\n",
       "      <td>Cool</td>\n",
       "      <td>Rock</td>\n",
       "      <td>Vodka</td>\n",
       "      <td>Coca Cola/Pepsi</td>\n",
       "      <td>F</td>\n",
       "    </tr>\n",
       "    <tr>\n",
       "      <th>...</th>\n",
       "      <td>...</td>\n",
       "      <td>...</td>\n",
       "      <td>...</td>\n",
       "      <td>...</td>\n",
       "      <td>...</td>\n",
       "    </tr>\n",
       "    <tr>\n",
       "      <th>61</th>\n",
       "      <td>Cool</td>\n",
       "      <td>Rock</td>\n",
       "      <td>Vodka</td>\n",
       "      <td>Coca Cola/Pepsi</td>\n",
       "      <td>M</td>\n",
       "    </tr>\n",
       "    <tr>\n",
       "      <th>62</th>\n",
       "      <td>Cool</td>\n",
       "      <td>Hip hop</td>\n",
       "      <td>Beer</td>\n",
       "      <td>Coca Cola/Pepsi</td>\n",
       "      <td>M</td>\n",
       "    </tr>\n",
       "    <tr>\n",
       "      <th>63</th>\n",
       "      <td>Neutral</td>\n",
       "      <td>Hip hop</td>\n",
       "      <td>Doesn't drink</td>\n",
       "      <td>Fanta</td>\n",
       "      <td>M</td>\n",
       "    </tr>\n",
       "    <tr>\n",
       "      <th>64</th>\n",
       "      <td>Cool</td>\n",
       "      <td>Rock</td>\n",
       "      <td>Wine</td>\n",
       "      <td>Coca Cola/Pepsi</td>\n",
       "      <td>M</td>\n",
       "    </tr>\n",
       "    <tr>\n",
       "      <th>65</th>\n",
       "      <td>Cool</td>\n",
       "      <td>Electronic</td>\n",
       "      <td>Beer</td>\n",
       "      <td>Coca Cola/Pepsi</td>\n",
       "      <td>M</td>\n",
       "    </tr>\n",
       "  </tbody>\n",
       "</table>\n",
       "<p>66 rows × 5 columns</p>\n",
       "</div>"
      ],
      "text/plain": [
       "   Favorite Color Favorite Music Genre Favorite Beverage Favorite Soft Drink  \\\n",
       "0            Cool                 Rock             Vodka          7UP/Sprite   \n",
       "1         Neutral              Hip hop             Vodka     Coca Cola/Pepsi   \n",
       "2            Warm                 Rock              Wine     Coca Cola/Pepsi   \n",
       "3            Warm     Folk/Traditional           Whiskey               Fanta   \n",
       "4            Cool                 Rock             Vodka     Coca Cola/Pepsi   \n",
       "..            ...                  ...               ...                 ...   \n",
       "61           Cool                 Rock             Vodka     Coca Cola/Pepsi   \n",
       "62           Cool              Hip hop              Beer     Coca Cola/Pepsi   \n",
       "63        Neutral              Hip hop     Doesn't drink               Fanta   \n",
       "64           Cool                 Rock              Wine     Coca Cola/Pepsi   \n",
       "65           Cool           Electronic              Beer     Coca Cola/Pepsi   \n",
       "\n",
       "   Gender  \n",
       "0       F  \n",
       "1       F  \n",
       "2       F  \n",
       "3       F  \n",
       "4       F  \n",
       "..    ...  \n",
       "61      M  \n",
       "62      M  \n",
       "63      M  \n",
       "64      M  \n",
       "65      M  \n",
       "\n",
       "[66 rows x 5 columns]"
      ]
     },
     "execution_count": 3,
     "metadata": {},
     "output_type": "execute_result"
    }
   ],
   "source": [
    "df=pd.read_csv('/kaggle/input/gender-classification/Transformed Data Set - Sheet1.csv')\n",
    "df"
   ]
  },
  {
   "cell_type": "markdown",
   "metadata": {
    "papermill": {
     "duration": 0.030369,
     "end_time": "2020-11-07T06:04:10.537171",
     "exception": false,
     "start_time": "2020-11-07T06:04:10.506802",
     "status": "completed"
    },
    "tags": []
   },
   "source": [
    "Shape of the dataframe"
   ]
  },
  {
   "cell_type": "code",
   "execution_count": 4,
   "metadata": {
    "execution": {
     "iopub.execute_input": "2020-11-07T06:04:10.605364Z",
     "iopub.status.busy": "2020-11-07T06:04:10.604377Z",
     "iopub.status.idle": "2020-11-07T06:04:10.608835Z",
     "shell.execute_reply": "2020-11-07T06:04:10.608283Z"
    },
    "papermill": {
     "duration": 0.039782,
     "end_time": "2020-11-07T06:04:10.608945",
     "exception": false,
     "start_time": "2020-11-07T06:04:10.569163",
     "status": "completed"
    },
    "tags": []
   },
   "outputs": [
    {
     "name": "stdout",
     "output_type": "stream",
     "text": [
      "shape of the dataframe is   :  (66, 5)\n"
     ]
    }
   ],
   "source": [
    "print('shape of the dataframe is   : ',df.shape)"
   ]
  },
  {
   "cell_type": "markdown",
   "metadata": {
    "papermill": {
     "duration": 0.02929,
     "end_time": "2020-11-07T06:04:10.668332",
     "exception": false,
     "start_time": "2020-11-07T06:04:10.639042",
     "status": "completed"
    },
    "tags": []
   },
   "source": [
    "Surely it is a very small dataset."
   ]
  },
  {
   "cell_type": "markdown",
   "metadata": {
    "papermill": {
     "duration": 0.029324,
     "end_time": "2020-11-07T06:04:10.727244",
     "exception": false,
     "start_time": "2020-11-07T06:04:10.697920",
     "status": "completed"
    },
    "tags": []
   },
   "source": [
    "Visualizing and finding unique terms in the dataframe"
   ]
  },
  {
   "cell_type": "code",
   "execution_count": 5,
   "metadata": {
    "execution": {
     "iopub.execute_input": "2020-11-07T06:04:10.802201Z",
     "iopub.status.busy": "2020-11-07T06:04:10.801378Z",
     "iopub.status.idle": "2020-11-07T06:04:10.806679Z",
     "shell.execute_reply": "2020-11-07T06:04:10.806196Z"
    },
    "papermill": {
     "duration": 0.043367,
     "end_time": "2020-11-07T06:04:10.806803",
     "exception": false,
     "start_time": "2020-11-07T06:04:10.763436",
     "status": "completed"
    },
    "tags": []
   },
   "outputs": [
    {
     "data": {
      "text/plain": [
       "Cool       37\n",
       "Warm       22\n",
       "Neutral     7\n",
       "Name: Favorite Color, dtype: int64"
      ]
     },
     "execution_count": 5,
     "metadata": {},
     "output_type": "execute_result"
    }
   ],
   "source": [
    "a=df['Favorite Color'].value_counts()\n",
    "colr=a.index\n",
    "a"
   ]
  },
  {
   "cell_type": "code",
   "execution_count": 6,
   "metadata": {
    "execution": {
     "iopub.execute_input": "2020-11-07T06:04:10.880615Z",
     "iopub.status.busy": "2020-11-07T06:04:10.879725Z",
     "iopub.status.idle": "2020-11-07T06:04:10.884092Z",
     "shell.execute_reply": "2020-11-07T06:04:10.884583Z"
    },
    "papermill": {
     "duration": 0.047223,
     "end_time": "2020-11-07T06:04:10.884731",
     "exception": false,
     "start_time": "2020-11-07T06:04:10.837508",
     "status": "completed"
    },
    "tags": []
   },
   "outputs": [
    {
     "data": {
      "text/plain": [
       "Rock                19\n",
       "Pop                 17\n",
       "Electronic           8\n",
       "Hip hop              8\n",
       "R&B and soul         6\n",
       "Jazz/Blues           4\n",
       "Folk/Traditional     4\n",
       "Name: Favorite Music Genre, dtype: int64"
      ]
     },
     "execution_count": 6,
     "metadata": {},
     "output_type": "execute_result"
    }
   ],
   "source": [
    "a=df['Favorite Music Genre'].value_counts()\n",
    "mgn=a.index\n",
    "a"
   ]
  },
  {
   "cell_type": "code",
   "execution_count": 7,
   "metadata": {
    "execution": {
     "iopub.execute_input": "2020-11-07T06:04:10.971576Z",
     "iopub.status.busy": "2020-11-07T06:04:10.970687Z",
     "iopub.status.idle": "2020-11-07T06:04:10.975229Z",
     "shell.execute_reply": "2020-11-07T06:04:10.974751Z"
    },
    "papermill": {
     "duration": 0.050836,
     "end_time": "2020-11-07T06:04:10.975346",
     "exception": false,
     "start_time": "2020-11-07T06:04:10.924510",
     "status": "completed"
    },
    "tags": []
   },
   "outputs": [
    {
     "data": {
      "text/plain": [
       "Doesn't drink    14\n",
       "Beer             13\n",
       "Other            11\n",
       "Wine             10\n",
       "Vodka             9\n",
       "Whiskey           9\n",
       "Name: Favorite Beverage, dtype: int64"
      ]
     },
     "execution_count": 7,
     "metadata": {},
     "output_type": "execute_result"
    }
   ],
   "source": [
    "a=df['Favorite Beverage'].value_counts()\n",
    "fbv=a.index\n",
    "a"
   ]
  },
  {
   "cell_type": "code",
   "execution_count": 8,
   "metadata": {
    "execution": {
     "iopub.execute_input": "2020-11-07T06:04:11.048206Z",
     "iopub.status.busy": "2020-11-07T06:04:11.047213Z",
     "iopub.status.idle": "2020-11-07T06:04:11.051691Z",
     "shell.execute_reply": "2020-11-07T06:04:11.051198Z"
    },
    "papermill": {
     "duration": 0.045275,
     "end_time": "2020-11-07T06:04:11.051806",
     "exception": false,
     "start_time": "2020-11-07T06:04:11.006531",
     "status": "completed"
    },
    "tags": []
   },
   "outputs": [
    {
     "data": {
      "text/plain": [
       "Coca Cola/Pepsi    32\n",
       "Fanta              14\n",
       "7UP/Sprite         13\n",
       "Other               7\n",
       "Name: Favorite Soft Drink, dtype: int64"
      ]
     },
     "execution_count": 8,
     "metadata": {},
     "output_type": "execute_result"
    }
   ],
   "source": [
    "a=df['Favorite Soft Drink'].value_counts()\n",
    "fsd=a.index\n",
    "a"
   ]
  },
  {
   "cell_type": "code",
   "execution_count": 9,
   "metadata": {
    "execution": {
     "iopub.execute_input": "2020-11-07T06:04:11.126844Z",
     "iopub.status.busy": "2020-11-07T06:04:11.126015Z",
     "iopub.status.idle": "2020-11-07T06:04:11.130932Z",
     "shell.execute_reply": "2020-11-07T06:04:11.130470Z"
    },
    "papermill": {
     "duration": 0.046842,
     "end_time": "2020-11-07T06:04:11.131067",
     "exception": false,
     "start_time": "2020-11-07T06:04:11.084225",
     "status": "completed"
    },
    "tags": []
   },
   "outputs": [
    {
     "data": {
      "text/plain": [
       "F    33\n",
       "M    33\n",
       "Name: Gender, dtype: int64"
      ]
     },
     "execution_count": 9,
     "metadata": {},
     "output_type": "execute_result"
    }
   ],
   "source": [
    "a=df['Gender'].value_counts()\n",
    "gen=a.index\n",
    "a"
   ]
  },
  {
   "cell_type": "markdown",
   "metadata": {
    "papermill": {
     "duration": 0.032444,
     "end_time": "2020-11-07T06:04:11.196430",
     "exception": false,
     "start_time": "2020-11-07T06:04:11.163986",
     "status": "completed"
    },
    "tags": []
   },
   "source": [
    "From above we can see the data is ***leakage-free data***"
   ]
  },
  {
   "cell_type": "markdown",
   "metadata": {
    "papermill": {
     "duration": 0.031747,
     "end_time": "2020-11-07T06:04:11.264826",
     "exception": false,
     "start_time": "2020-11-07T06:04:11.233079",
     "status": "completed"
    },
    "tags": []
   },
   "source": [
    "# EDA"
   ]
  },
  {
   "cell_type": "markdown",
   "metadata": {
    "papermill": {
     "duration": 0.031496,
     "end_time": "2020-11-07T06:04:11.328234",
     "exception": false,
     "start_time": "2020-11-07T06:04:11.296738",
     "status": "completed"
    },
    "tags": []
   },
   "source": [
    "* Favorite Color"
   ]
  },
  {
   "cell_type": "code",
   "execution_count": 10,
   "metadata": {
    "execution": {
     "iopub.execute_input": "2020-11-07T06:04:11.403984Z",
     "iopub.status.busy": "2020-11-07T06:04:11.403344Z",
     "iopub.status.idle": "2020-11-07T06:04:11.580522Z",
     "shell.execute_reply": "2020-11-07T06:04:11.579801Z"
    },
    "papermill": {
     "duration": 0.22044,
     "end_time": "2020-11-07T06:04:11.580644",
     "exception": false,
     "start_time": "2020-11-07T06:04:11.360204",
     "status": "completed"
    },
    "tags": []
   },
   "outputs": [
    {
     "data": {
      "image/png": "[encoded data removed]",
      "text/plain": [
       "<Figure size 432x288 with 1 Axes>"
      ]
     },
     "metadata": {
      "needs_background": "light"
     },
     "output_type": "display_data"
    }
   ],
   "source": [
    "male=df[df['Gender']=='M']\n",
    "female=df[df['Gender']=='F']\n",
    "x=[]\n",
    "y=[]\n",
    "for i in range(len(colr)):\n",
    "    x.append(len(male[male['Favorite Color']==colr[i]]))\n",
    "    y.append(len(female[female['Favorite Color']==colr[i]]))\n",
    "plt.plot(colr,x,label='Male')\n",
    "plt.legend()\n",
    "plt.plot(colr,y,label='Female')\n",
    "plt.legend()\n",
    "plt.title('Favorite Color')\n",
    "plt.xlabel('types')\n",
    "plt.ylabel('no. of people')\n",
    "plt.show()"
   ]
  },
  {
   "cell_type": "markdown",
   "metadata": {
    "papermill": {
     "duration": 0.033112,
     "end_time": "2020-11-07T06:04:11.647838",
     "exception": false,
     "start_time": "2020-11-07T06:04:11.614726",
     "status": "completed"
    },
    "tags": []
   },
   "source": [
    "It's visible that men are more attracted towards cool colors like blue green and women are to yellow ,red,violet"
   ]
  },
  {
   "cell_type": "markdown",
   "metadata": {
    "papermill": {
     "duration": 0.032504,
     "end_time": "2020-11-07T06:04:11.714093",
     "exception": false,
     "start_time": "2020-11-07T06:04:11.681589",
     "status": "completed"
    },
    "tags": []
   },
   "source": [
    "* Favorite Music Genre"
   ]
  },
  {
   "cell_type": "code",
   "execution_count": 11,
   "metadata": {
    "execution": {
     "iopub.execute_input": "2020-11-07T06:04:11.797974Z",
     "iopub.status.busy": "2020-11-07T06:04:11.793819Z",
     "iopub.status.idle": "2020-11-07T06:04:11.930278Z",
     "shell.execute_reply": "2020-11-07T06:04:11.929616Z"
    },
    "papermill": {
     "duration": 0.183606,
     "end_time": "2020-11-07T06:04:11.930398",
     "exception": false,
     "start_time": "2020-11-07T06:04:11.746792",
     "status": "completed"
    },
    "tags": []
   },
   "outputs": [
    {
     "data": {
      "image/png": "[encoded data removed]",
      "text/plain": [
       "<Figure size 432x288 with 1 Axes>"
      ]
     },
     "metadata": {
      "needs_background": "light"
     },
     "output_type": "display_data"
    }
   ],
   "source": [
    "x=[]\n",
    "y=[]\n",
    "for i in range(len(mgn)):\n",
    "    x.append(len(male[male['Favorite Music Genre']==mgn[i]]))\n",
    "    y.append(len(female[female['Favorite Music Genre']==mgn[i]]))\n",
    "plt.plot(mgn,x,label='Male')\n",
    "plt.legend()\n",
    "plt.plot(mgn,y,label='Female')\n",
    "plt.legend()\n",
    "plt.xticks(rotation =40)\n",
    "plt.title('Favorite Music Genre')\n",
    "plt.xlabel('types')\n",
    "plt.ylabel('no. of people')\n",
    "plt.show()"
   ]
  },
  {
   "cell_type": "markdown",
   "metadata": {
    "papermill": {
     "duration": 0.033722,
     "end_time": "2020-11-07T06:04:11.999357",
     "exception": false,
     "start_time": "2020-11-07T06:04:11.965635",
     "status": "completed"
    },
    "tags": []
   },
   "source": [
    "Looks like men are attarcted towards modern musics than women"
   ]
  },
  {
   "cell_type": "markdown",
   "metadata": {
    "papermill": {
     "duration": 0.03413,
     "end_time": "2020-11-07T06:04:12.068067",
     "exception": false,
     "start_time": "2020-11-07T06:04:12.033937",
     "status": "completed"
    },
    "tags": []
   },
   "source": [
    "* Favorite Beverage"
   ]
  },
  {
   "cell_type": "code",
   "execution_count": 12,
   "metadata": {
    "execution": {
     "iopub.execute_input": "2020-11-07T06:04:12.157532Z",
     "iopub.status.busy": "2020-11-07T06:04:12.156862Z",
     "iopub.status.idle": "2020-11-07T06:04:12.291109Z",
     "shell.execute_reply": "2020-11-07T06:04:12.290587Z"
    },
    "papermill": {
     "duration": 0.188691,
     "end_time": "2020-11-07T06:04:12.291231",
     "exception": false,
     "start_time": "2020-11-07T06:04:12.102540",
     "status": "completed"
    },
    "tags": []
   },
   "outputs": [
    {
     "data": {
      "image/png": "[encoded data removed]",
      "text/plain": [
       "<Figure size 432x288 with 1 Axes>"
      ]
     },
     "metadata": {
      "needs_background": "light"
     },
     "output_type": "display_data"
    }
   ],
   "source": [
    "x=[]\n",
    "y=[]\n",
    "for i in range(len(fbv)):\n",
    "    x.append(len(male[male['Favorite Beverage']==fbv[i]]))\n",
    "    y.append(len(female[female['Favorite Beverage']==fbv[i]]))\n",
    "plt.plot(fbv,x,label='Male')\n",
    "plt.legend()\n",
    "plt.plot(fbv,y,label='Female')\n",
    "plt.legend()\n",
    "plt.xticks(rotation =40)\n",
    "plt.title('Favorite Beverage')\n",
    "plt.xlabel('types')\n",
    "plt.ylabel('no. of people')\n",
    "plt.show()"
   ]
  },
  {
   "cell_type": "markdown",
   "metadata": {
    "papermill": {
     "duration": 0.034672,
     "end_time": "2020-11-07T06:04:12.360899",
     "exception": false,
     "start_time": "2020-11-07T06:04:12.326227",
     "status": "completed"
    },
    "tags": []
   },
   "source": [
    "Seems women are attracted to hard drink than men. Small data provided this unlikeliness XD"
   ]
  },
  {
   "cell_type": "markdown",
   "metadata": {
    "papermill": {
     "duration": 0.035286,
     "end_time": "2020-11-07T06:04:12.431228",
     "exception": false,
     "start_time": "2020-11-07T06:04:12.395942",
     "status": "completed"
    },
    "tags": []
   },
   "source": [
    "* Favorite Soft Drink"
   ]
  },
  {
   "cell_type": "code",
   "execution_count": 13,
   "metadata": {
    "execution": {
     "iopub.execute_input": "2020-11-07T06:04:12.517287Z",
     "iopub.status.busy": "2020-11-07T06:04:12.513359Z",
     "iopub.status.idle": "2020-11-07T06:04:12.673766Z",
     "shell.execute_reply": "2020-11-07T06:04:12.671567Z"
    },
    "papermill": {
     "duration": 0.207716,
     "end_time": "2020-11-07T06:04:12.673935",
     "exception": false,
     "start_time": "2020-11-07T06:04:12.466219",
     "status": "completed"
    },
    "tags": []
   },
   "outputs": [
    {
     "data": {
      "image/png": "[encoded data removed]",
      "text/plain": [
       "<Figure size 432x288 with 1 Axes>"
      ]
     },
     "metadata": {
      "needs_background": "light"
     },
     "output_type": "display_data"
    }
   ],
   "source": [
    "x=[]\n",
    "y=[]\n",
    "for i in range(len(fsd)):\n",
    "    x.append(len(male[male['Favorite Soft Drink']==fsd[i]]))\n",
    "    y.append(len(female[female['Favorite Soft Drink']==fsd[i]]))\n",
    "plt.plot(fsd,x,label='Male')\n",
    "plt.legend()\n",
    "plt.plot(fsd,y,label='Female')\n",
    "plt.legend()\n",
    "plt.xticks(rotation =40)\n",
    "plt.title('Favorite Soft Drink')\n",
    "plt.xlabel('types')\n",
    "plt.ylabel('no. of people')\n",
    "plt.show()"
   ]
  },
  {
   "cell_type": "markdown",
   "metadata": {
    "papermill": {
     "duration": 0.040985,
     "end_time": "2020-11-07T06:04:12.762602",
     "exception": false,
     "start_time": "2020-11-07T06:04:12.721617",
     "status": "completed"
    },
    "tags": []
   },
   "source": [
    "It is clear that soft drink taste has inferior **GNEDER BIAS**"
   ]
  },
  {
   "cell_type": "markdown",
   "metadata": {
    "papermill": {
     "duration": 0.035716,
     "end_time": "2020-11-07T06:04:12.834661",
     "exception": false,
     "start_time": "2020-11-07T06:04:12.798945",
     "status": "completed"
    },
    "tags": []
   },
   "source": [
    "* ***Encoding***"
   ]
  },
  {
   "cell_type": "markdown",
   "metadata": {
    "papermill": {
     "duration": 0.035829,
     "end_time": "2020-11-07T06:04:12.906453",
     "exception": false,
     "start_time": "2020-11-07T06:04:12.870624",
     "status": "completed"
    },
    "tags": []
   },
   "source": [
    "The encoding are done **manually** as a beginner can understand with ease !"
   ]
  },
  {
   "cell_type": "markdown",
   "metadata": {
    "papermill": {
     "duration": 0.036416,
     "end_time": "2020-11-07T06:04:12.979493",
     "exception": false,
     "start_time": "2020-11-07T06:04:12.943077",
     "status": "completed"
    },
    "tags": []
   },
   "source": [
    "* Favorite color"
   ]
  },
  {
   "cell_type": "code",
   "execution_count": 14,
   "metadata": {
    "execution": {
     "iopub.execute_input": "2020-11-07T06:04:13.070949Z",
     "iopub.status.busy": "2020-11-07T06:04:13.069935Z",
     "iopub.status.idle": "2020-11-07T06:04:13.074415Z",
     "shell.execute_reply": "2020-11-07T06:04:13.073880Z"
    },
    "papermill": {
     "duration": 0.058014,
     "end_time": "2020-11-07T06:04:13.074529",
     "exception": false,
     "start_time": "2020-11-07T06:04:13.016515",
     "status": "completed"
    },
    "tags": []
   },
   "outputs": [
    {
     "data": {
      "text/html": [
       "<div>\n",
       "<style scoped>\n",
       "    .dataframe tbody tr th:only-of-type {\n",
       "        vertical-align: middle;\n",
       "    }\n",
       "\n",
       "    .dataframe tbody tr th {\n",
       "        vertical-align: top;\n",
       "    }\n",
       "\n",
       "    .dataframe thead th {\n",
       "        text-align: right;\n",
       "    }\n",
       "</style>\n",
       "<table border=\"1\" class=\"dataframe\">\n",
       "  <thead>\n",
       "    <tr style=\"text-align: right;\">\n",
       "      <th></th>\n",
       "      <th>Favorite Color</th>\n",
       "      <th>Favorite Music Genre</th>\n",
       "      <th>Favorite Beverage</th>\n",
       "      <th>Favorite Soft Drink</th>\n",
       "      <th>Gender</th>\n",
       "    </tr>\n",
       "  </thead>\n",
       "  <tbody>\n",
       "    <tr>\n",
       "      <th>0</th>\n",
       "      <td>0</td>\n",
       "      <td>Rock</td>\n",
       "      <td>Vodka</td>\n",
       "      <td>7UP/Sprite</td>\n",
       "      <td>F</td>\n",
       "    </tr>\n",
       "    <tr>\n",
       "      <th>1</th>\n",
       "      <td>2</td>\n",
       "      <td>Hip hop</td>\n",
       "      <td>Vodka</td>\n",
       "      <td>Coca Cola/Pepsi</td>\n",
       "      <td>F</td>\n",
       "    </tr>\n",
       "    <tr>\n",
       "      <th>2</th>\n",
       "      <td>1</td>\n",
       "      <td>Rock</td>\n",
       "      <td>Wine</td>\n",
       "      <td>Coca Cola/Pepsi</td>\n",
       "      <td>F</td>\n",
       "    </tr>\n",
       "    <tr>\n",
       "      <th>3</th>\n",
       "      <td>1</td>\n",
       "      <td>Folk/Traditional</td>\n",
       "      <td>Whiskey</td>\n",
       "      <td>Fanta</td>\n",
       "      <td>F</td>\n",
       "    </tr>\n",
       "    <tr>\n",
       "      <th>4</th>\n",
       "      <td>0</td>\n",
       "      <td>Rock</td>\n",
       "      <td>Vodka</td>\n",
       "      <td>Coca Cola/Pepsi</td>\n",
       "      <td>F</td>\n",
       "    </tr>\n",
       "    <tr>\n",
       "      <th>...</th>\n",
       "      <td>...</td>\n",
       "      <td>...</td>\n",
       "      <td>...</td>\n",
       "      <td>...</td>\n",
       "      <td>...</td>\n",
       "    </tr>\n",
       "    <tr>\n",
       "      <th>61</th>\n",
       "      <td>0</td>\n",
       "      <td>Rock</td>\n",
       "      <td>Vodka</td>\n",
       "      <td>Coca Cola/Pepsi</td>\n",
       "      <td>M</td>\n",
       "    </tr>\n",
       "    <tr>\n",
       "      <th>62</th>\n",
       "      <td>0</td>\n",
       "      <td>Hip hop</td>\n",
       "      <td>Beer</td>\n",
       "      <td>Coca Cola/Pepsi</td>\n",
       "      <td>M</td>\n",
       "    </tr>\n",
       "    <tr>\n",
       "      <th>63</th>\n",
       "      <td>2</td>\n",
       "      <td>Hip hop</td>\n",
       "      <td>Doesn't drink</td>\n",
       "      <td>Fanta</td>\n",
       "      <td>M</td>\n",
       "    </tr>\n",
       "    <tr>\n",
       "      <th>64</th>\n",
       "      <td>0</td>\n",
       "      <td>Rock</td>\n",
       "      <td>Wine</td>\n",
       "      <td>Coca Cola/Pepsi</td>\n",
       "      <td>M</td>\n",
       "    </tr>\n",
       "    <tr>\n",
       "      <th>65</th>\n",
       "      <td>0</td>\n",
       "      <td>Electronic</td>\n",
       "      <td>Beer</td>\n",
       "      <td>Coca Cola/Pepsi</td>\n",
       "      <td>M</td>\n",
       "    </tr>\n",
       "  </tbody>\n",
       "</table>\n",
       "<p>66 rows × 5 columns</p>\n",
       "</div>"
      ],
      "text/plain": [
       "    Favorite Color Favorite Music Genre Favorite Beverage Favorite Soft Drink  \\\n",
       "0                0                 Rock             Vodka          7UP/Sprite   \n",
       "1                2              Hip hop             Vodka     Coca Cola/Pepsi   \n",
       "2                1                 Rock              Wine     Coca Cola/Pepsi   \n",
       "3                1     Folk/Traditional           Whiskey               Fanta   \n",
       "4                0                 Rock             Vodka     Coca Cola/Pepsi   \n",
       "..             ...                  ...               ...                 ...   \n",
       "61               0                 Rock             Vodka     Coca Cola/Pepsi   \n",
       "62               0              Hip hop              Beer     Coca Cola/Pepsi   \n",
       "63               2              Hip hop     Doesn't drink               Fanta   \n",
       "64               0                 Rock              Wine     Coca Cola/Pepsi   \n",
       "65               0           Electronic              Beer     Coca Cola/Pepsi   \n",
       "\n",
       "   Gender  \n",
       "0       F  \n",
       "1       F  \n",
       "2       F  \n",
       "3       F  \n",
       "4       F  \n",
       "..    ...  \n",
       "61      M  \n",
       "62      M  \n",
       "63      M  \n",
       "64      M  \n",
       "65      M  \n",
       "\n",
       "[66 rows x 5 columns]"
      ]
     },
     "execution_count": 14,
     "metadata": {},
     "output_type": "execute_result"
    }
   ],
   "source": [
    "for i in range(len(colr)):\n",
    "    df['Favorite Color'].replace(colr[i],i,inplace=True)\n",
    "df"
   ]
  },
  {
   "cell_type": "markdown",
   "metadata": {
    "papermill": {
     "duration": 0.036927,
     "end_time": "2020-11-07T06:04:13.149253",
     "exception": false,
     "start_time": "2020-11-07T06:04:13.112326",
     "status": "completed"
    },
    "tags": []
   },
   "source": [
    "Favorite Music Genre"
   ]
  },
  {
   "cell_type": "code",
   "execution_count": 15,
   "metadata": {
    "execution": {
     "iopub.execute_input": "2020-11-07T06:04:13.243272Z",
     "iopub.status.busy": "2020-11-07T06:04:13.242187Z",
     "iopub.status.idle": "2020-11-07T06:04:13.246943Z",
     "shell.execute_reply": "2020-11-07T06:04:13.246342Z"
    },
    "papermill": {
     "duration": 0.060564,
     "end_time": "2020-11-07T06:04:13.247072",
     "exception": false,
     "start_time": "2020-11-07T06:04:13.186508",
     "status": "completed"
    },
    "tags": []
   },
   "outputs": [
    {
     "data": {
      "text/html": [
       "<div>\n",
       "<style scoped>\n",
       "    .dataframe tbody tr th:only-of-type {\n",
       "        vertical-align: middle;\n",
       "    }\n",
       "\n",
       "    .dataframe tbody tr th {\n",
       "        vertical-align: top;\n",
       "    }\n",
       "\n",
       "    .dataframe thead th {\n",
       "        text-align: right;\n",
       "    }\n",
       "</style>\n",
       "<table border=\"1\" class=\"dataframe\">\n",
       "  <thead>\n",
       "    <tr style=\"text-align: right;\">\n",
       "      <th></th>\n",
       "      <th>Favorite Color</th>\n",
       "      <th>Favorite Music Genre</th>\n",
       "      <th>Favorite Beverage</th>\n",
       "      <th>Favorite Soft Drink</th>\n",
       "      <th>Gender</th>\n",
       "    </tr>\n",
       "  </thead>\n",
       "  <tbody>\n",
       "    <tr>\n",
       "      <th>0</th>\n",
       "      <td>0</td>\n",
       "      <td>0</td>\n",
       "      <td>Vodka</td>\n",
       "      <td>7UP/Sprite</td>\n",
       "      <td>F</td>\n",
       "    </tr>\n",
       "    <tr>\n",
       "      <th>1</th>\n",
       "      <td>2</td>\n",
       "      <td>3</td>\n",
       "      <td>Vodka</td>\n",
       "      <td>Coca Cola/Pepsi</td>\n",
       "      <td>F</td>\n",
       "    </tr>\n",
       "    <tr>\n",
       "      <th>2</th>\n",
       "      <td>1</td>\n",
       "      <td>0</td>\n",
       "      <td>Wine</td>\n",
       "      <td>Coca Cola/Pepsi</td>\n",
       "      <td>F</td>\n",
       "    </tr>\n",
       "    <tr>\n",
       "      <th>3</th>\n",
       "      <td>1</td>\n",
       "      <td>6</td>\n",
       "      <td>Whiskey</td>\n",
       "      <td>Fanta</td>\n",
       "      <td>F</td>\n",
       "    </tr>\n",
       "    <tr>\n",
       "      <th>4</th>\n",
       "      <td>0</td>\n",
       "      <td>0</td>\n",
       "      <td>Vodka</td>\n",
       "      <td>Coca Cola/Pepsi</td>\n",
       "      <td>F</td>\n",
       "    </tr>\n",
       "    <tr>\n",
       "      <th>...</th>\n",
       "      <td>...</td>\n",
       "      <td>...</td>\n",
       "      <td>...</td>\n",
       "      <td>...</td>\n",
       "      <td>...</td>\n",
       "    </tr>\n",
       "    <tr>\n",
       "      <th>61</th>\n",
       "      <td>0</td>\n",
       "      <td>0</td>\n",
       "      <td>Vodka</td>\n",
       "      <td>Coca Cola/Pepsi</td>\n",
       "      <td>M</td>\n",
       "    </tr>\n",
       "    <tr>\n",
       "      <th>62</th>\n",
       "      <td>0</td>\n",
       "      <td>3</td>\n",
       "      <td>Beer</td>\n",
       "      <td>Coca Cola/Pepsi</td>\n",
       "      <td>M</td>\n",
       "    </tr>\n",
       "    <tr>\n",
       "      <th>63</th>\n",
       "      <td>2</td>\n",
       "      <td>3</td>\n",
       "      <td>Doesn't drink</td>\n",
       "      <td>Fanta</td>\n",
       "      <td>M</td>\n",
       "    </tr>\n",
       "    <tr>\n",
       "      <th>64</th>\n",
       "      <td>0</td>\n",
       "      <td>0</td>\n",
       "      <td>Wine</td>\n",
       "      <td>Coca Cola/Pepsi</td>\n",
       "      <td>M</td>\n",
       "    </tr>\n",
       "    <tr>\n",
       "      <th>65</th>\n",
       "      <td>0</td>\n",
       "      <td>2</td>\n",
       "      <td>Beer</td>\n",
       "      <td>Coca Cola/Pepsi</td>\n",
       "      <td>M</td>\n",
       "    </tr>\n",
       "  </tbody>\n",
       "</table>\n",
       "<p>66 rows × 5 columns</p>\n",
       "</div>"
      ],
      "text/plain": [
       "    Favorite Color  Favorite Music Genre Favorite Beverage  \\\n",
       "0                0                     0             Vodka   \n",
       "1                2                     3             Vodka   \n",
       "2                1                     0              Wine   \n",
       "3                1                     6           Whiskey   \n",
       "4                0                     0             Vodka   \n",
       "..             ...                   ...               ...   \n",
       "61               0                     0             Vodka   \n",
       "62               0                     3              Beer   \n",
       "63               2                     3     Doesn't drink   \n",
       "64               0                     0              Wine   \n",
       "65               0                     2              Beer   \n",
       "\n",
       "   Favorite Soft Drink Gender  \n",
       "0           7UP/Sprite      F  \n",
       "1      Coca Cola/Pepsi      F  \n",
       "2      Coca Cola/Pepsi      F  \n",
       "3                Fanta      F  \n",
       "4      Coca Cola/Pepsi      F  \n",
       "..                 ...    ...  \n",
       "61     Coca Cola/Pepsi      M  \n",
       "62     Coca Cola/Pepsi      M  \n",
       "63               Fanta      M  \n",
       "64     Coca Cola/Pepsi      M  \n",
       "65     Coca Cola/Pepsi      M  \n",
       "\n",
       "[66 rows x 5 columns]"
      ]
     },
     "execution_count": 15,
     "metadata": {},
     "output_type": "execute_result"
    }
   ],
   "source": [
    "for i in range(len(mgn)):\n",
    "    df['Favorite Music Genre'].replace(mgn[i],i,inplace=True)\n",
    "df"
   ]
  },
  {
   "cell_type": "markdown",
   "metadata": {
    "papermill": {
     "duration": 0.037138,
     "end_time": "2020-11-07T06:04:13.321562",
     "exception": false,
     "start_time": "2020-11-07T06:04:13.284424",
     "status": "completed"
    },
    "tags": []
   },
   "source": [
    "* Favorite Beverage"
   ]
  },
  {
   "cell_type": "code",
   "execution_count": 16,
   "metadata": {
    "execution": {
     "iopub.execute_input": "2020-11-07T06:04:13.415792Z",
     "iopub.status.busy": "2020-11-07T06:04:13.406785Z",
     "iopub.status.idle": "2020-11-07T06:04:13.420100Z",
     "shell.execute_reply": "2020-11-07T06:04:13.419519Z"
    },
    "papermill": {
     "duration": 0.061033,
     "end_time": "2020-11-07T06:04:13.420220",
     "exception": false,
     "start_time": "2020-11-07T06:04:13.359187",
     "status": "completed"
    },
    "tags": []
   },
   "outputs": [
    {
     "data": {
      "text/html": [
       "<div>\n",
       "<style scoped>\n",
       "    .dataframe tbody tr th:only-of-type {\n",
       "        vertical-align: middle;\n",
       "    }\n",
       "\n",
       "    .dataframe tbody tr th {\n",
       "        vertical-align: top;\n",
       "    }\n",
       "\n",
       "    .dataframe thead th {\n",
       "        text-align: right;\n",
       "    }\n",
       "</style>\n",
       "<table border=\"1\" class=\"dataframe\">\n",
       "  <thead>\n",
       "    <tr style=\"text-align: right;\">\n",
       "      <th></th>\n",
       "      <th>Favorite Color</th>\n",
       "      <th>Favorite Music Genre</th>\n",
       "      <th>Favorite Beverage</th>\n",
       "      <th>Favorite Soft Drink</th>\n",
       "      <th>Gender</th>\n",
       "    </tr>\n",
       "  </thead>\n",
       "  <tbody>\n",
       "    <tr>\n",
       "      <th>0</th>\n",
       "      <td>0</td>\n",
       "      <td>0</td>\n",
       "      <td>4</td>\n",
       "      <td>7UP/Sprite</td>\n",
       "      <td>F</td>\n",
       "    </tr>\n",
       "    <tr>\n",
       "      <th>1</th>\n",
       "      <td>2</td>\n",
       "      <td>3</td>\n",
       "      <td>4</td>\n",
       "      <td>Coca Cola/Pepsi</td>\n",
       "      <td>F</td>\n",
       "    </tr>\n",
       "    <tr>\n",
       "      <th>2</th>\n",
       "      <td>1</td>\n",
       "      <td>0</td>\n",
       "      <td>3</td>\n",
       "      <td>Coca Cola/Pepsi</td>\n",
       "      <td>F</td>\n",
       "    </tr>\n",
       "    <tr>\n",
       "      <th>3</th>\n",
       "      <td>1</td>\n",
       "      <td>6</td>\n",
       "      <td>5</td>\n",
       "      <td>Fanta</td>\n",
       "      <td>F</td>\n",
       "    </tr>\n",
       "    <tr>\n",
       "      <th>4</th>\n",
       "      <td>0</td>\n",
       "      <td>0</td>\n",
       "      <td>4</td>\n",
       "      <td>Coca Cola/Pepsi</td>\n",
       "      <td>F</td>\n",
       "    </tr>\n",
       "    <tr>\n",
       "      <th>...</th>\n",
       "      <td>...</td>\n",
       "      <td>...</td>\n",
       "      <td>...</td>\n",
       "      <td>...</td>\n",
       "      <td>...</td>\n",
       "    </tr>\n",
       "    <tr>\n",
       "      <th>61</th>\n",
       "      <td>0</td>\n",
       "      <td>0</td>\n",
       "      <td>4</td>\n",
       "      <td>Coca Cola/Pepsi</td>\n",
       "      <td>M</td>\n",
       "    </tr>\n",
       "    <tr>\n",
       "      <th>62</th>\n",
       "      <td>0</td>\n",
       "      <td>3</td>\n",
       "      <td>1</td>\n",
       "      <td>Coca Cola/Pepsi</td>\n",
       "      <td>M</td>\n",
       "    </tr>\n",
       "    <tr>\n",
       "      <th>63</th>\n",
       "      <td>2</td>\n",
       "      <td>3</td>\n",
       "      <td>0</td>\n",
       "      <td>Fanta</td>\n",
       "      <td>M</td>\n",
       "    </tr>\n",
       "    <tr>\n",
       "      <th>64</th>\n",
       "      <td>0</td>\n",
       "      <td>0</td>\n",
       "      <td>3</td>\n",
       "      <td>Coca Cola/Pepsi</td>\n",
       "      <td>M</td>\n",
       "    </tr>\n",
       "    <tr>\n",
       "      <th>65</th>\n",
       "      <td>0</td>\n",
       "      <td>2</td>\n",
       "      <td>1</td>\n",
       "      <td>Coca Cola/Pepsi</td>\n",
       "      <td>M</td>\n",
       "    </tr>\n",
       "  </tbody>\n",
       "</table>\n",
       "<p>66 rows × 5 columns</p>\n",
       "</div>"
      ],
      "text/plain": [
       "    Favorite Color  Favorite Music Genre  Favorite Beverage  \\\n",
       "0                0                     0                  4   \n",
       "1                2                     3                  4   \n",
       "2                1                     0                  3   \n",
       "3                1                     6                  5   \n",
       "4                0                     0                  4   \n",
       "..             ...                   ...                ...   \n",
       "61               0                     0                  4   \n",
       "62               0                     3                  1   \n",
       "63               2                     3                  0   \n",
       "64               0                     0                  3   \n",
       "65               0                     2                  1   \n",
       "\n",
       "   Favorite Soft Drink Gender  \n",
       "0           7UP/Sprite      F  \n",
       "1      Coca Cola/Pepsi      F  \n",
       "2      Coca Cola/Pepsi      F  \n",
       "3                Fanta      F  \n",
       "4      Coca Cola/Pepsi      F  \n",
       "..                 ...    ...  \n",
       "61     Coca Cola/Pepsi      M  \n",
       "62     Coca Cola/Pepsi      M  \n",
       "63               Fanta      M  \n",
       "64     Coca Cola/Pepsi      M  \n",
       "65     Coca Cola/Pepsi      M  \n",
       "\n",
       "[66 rows x 5 columns]"
      ]
     },
     "execution_count": 16,
     "metadata": {},
     "output_type": "execute_result"
    }
   ],
   "source": [
    "for i in range(len(fbv)):\n",
    "    df['Favorite Beverage'].replace(fbv[i],i,inplace=True)\n",
    "df"
   ]
  },
  {
   "cell_type": "markdown",
   "metadata": {
    "papermill": {
     "duration": 0.037563,
     "end_time": "2020-11-07T06:04:13.496199",
     "exception": false,
     "start_time": "2020-11-07T06:04:13.458636",
     "status": "completed"
    },
    "tags": []
   },
   "source": [
    "* Favorite Soft Drink"
   ]
  },
  {
   "cell_type": "code",
   "execution_count": 17,
   "metadata": {
    "execution": {
     "iopub.execute_input": "2020-11-07T06:04:13.591441Z",
     "iopub.status.busy": "2020-11-07T06:04:13.587482Z",
     "iopub.status.idle": "2020-11-07T06:04:13.595368Z",
     "shell.execute_reply": "2020-11-07T06:04:13.595813Z"
    },
    "papermill": {
     "duration": 0.060769,
     "end_time": "2020-11-07T06:04:13.595965",
     "exception": false,
     "start_time": "2020-11-07T06:04:13.535196",
     "status": "completed"
    },
    "tags": []
   },
   "outputs": [
    {
     "data": {
      "text/html": [
       "<div>\n",
       "<style scoped>\n",
       "    .dataframe tbody tr th:only-of-type {\n",
       "        vertical-align: middle;\n",
       "    }\n",
       "\n",
       "    .dataframe tbody tr th {\n",
       "        vertical-align: top;\n",
       "    }\n",
       "\n",
       "    .dataframe thead th {\n",
       "        text-align: right;\n",
       "    }\n",
       "</style>\n",
       "<table border=\"1\" class=\"dataframe\">\n",
       "  <thead>\n",
       "    <tr style=\"text-align: right;\">\n",
       "      <th></th>\n",
       "      <th>Favorite Color</th>\n",
       "      <th>Favorite Music Genre</th>\n",
       "      <th>Favorite Beverage</th>\n",
       "      <th>Favorite Soft Drink</th>\n",
       "      <th>Gender</th>\n",
       "    </tr>\n",
       "  </thead>\n",
       "  <tbody>\n",
       "    <tr>\n",
       "      <th>0</th>\n",
       "      <td>0</td>\n",
       "      <td>0</td>\n",
       "      <td>4</td>\n",
       "      <td>2</td>\n",
       "      <td>F</td>\n",
       "    </tr>\n",
       "    <tr>\n",
       "      <th>1</th>\n",
       "      <td>2</td>\n",
       "      <td>3</td>\n",
       "      <td>4</td>\n",
       "      <td>0</td>\n",
       "      <td>F</td>\n",
       "    </tr>\n",
       "    <tr>\n",
       "      <th>2</th>\n",
       "      <td>1</td>\n",
       "      <td>0</td>\n",
       "      <td>3</td>\n",
       "      <td>0</td>\n",
       "      <td>F</td>\n",
       "    </tr>\n",
       "    <tr>\n",
       "      <th>3</th>\n",
       "      <td>1</td>\n",
       "      <td>6</td>\n",
       "      <td>5</td>\n",
       "      <td>1</td>\n",
       "      <td>F</td>\n",
       "    </tr>\n",
       "    <tr>\n",
       "      <th>4</th>\n",
       "      <td>0</td>\n",
       "      <td>0</td>\n",
       "      <td>4</td>\n",
       "      <td>0</td>\n",
       "      <td>F</td>\n",
       "    </tr>\n",
       "    <tr>\n",
       "      <th>...</th>\n",
       "      <td>...</td>\n",
       "      <td>...</td>\n",
       "      <td>...</td>\n",
       "      <td>...</td>\n",
       "      <td>...</td>\n",
       "    </tr>\n",
       "    <tr>\n",
       "      <th>61</th>\n",
       "      <td>0</td>\n",
       "      <td>0</td>\n",
       "      <td>4</td>\n",
       "      <td>0</td>\n",
       "      <td>M</td>\n",
       "    </tr>\n",
       "    <tr>\n",
       "      <th>62</th>\n",
       "      <td>0</td>\n",
       "      <td>3</td>\n",
       "      <td>1</td>\n",
       "      <td>0</td>\n",
       "      <td>M</td>\n",
       "    </tr>\n",
       "    <tr>\n",
       "      <th>63</th>\n",
       "      <td>2</td>\n",
       "      <td>3</td>\n",
       "      <td>0</td>\n",
       "      <td>1</td>\n",
       "      <td>M</td>\n",
       "    </tr>\n",
       "    <tr>\n",
       "      <th>64</th>\n",
       "      <td>0</td>\n",
       "      <td>0</td>\n",
       "      <td>3</td>\n",
       "      <td>0</td>\n",
       "      <td>M</td>\n",
       "    </tr>\n",
       "    <tr>\n",
       "      <th>65</th>\n",
       "      <td>0</td>\n",
       "      <td>2</td>\n",
       "      <td>1</td>\n",
       "      <td>0</td>\n",
       "      <td>M</td>\n",
       "    </tr>\n",
       "  </tbody>\n",
       "</table>\n",
       "<p>66 rows × 5 columns</p>\n",
       "</div>"
      ],
      "text/plain": [
       "    Favorite Color  Favorite Music Genre  Favorite Beverage  \\\n",
       "0                0                     0                  4   \n",
       "1                2                     3                  4   \n",
       "2                1                     0                  3   \n",
       "3                1                     6                  5   \n",
       "4                0                     0                  4   \n",
       "..             ...                   ...                ...   \n",
       "61               0                     0                  4   \n",
       "62               0                     3                  1   \n",
       "63               2                     3                  0   \n",
       "64               0                     0                  3   \n",
       "65               0                     2                  1   \n",
       "\n",
       "    Favorite Soft Drink Gender  \n",
       "0                     2      F  \n",
       "1                     0      F  \n",
       "2                     0      F  \n",
       "3                     1      F  \n",
       "4                     0      F  \n",
       "..                  ...    ...  \n",
       "61                    0      M  \n",
       "62                    0      M  \n",
       "63                    1      M  \n",
       "64                    0      M  \n",
       "65                    0      M  \n",
       "\n",
       "[66 rows x 5 columns]"
      ]
     },
     "execution_count": 17,
     "metadata": {},
     "output_type": "execute_result"
    }
   ],
   "source": [
    "for i in range(len(fsd)):\n",
    "    df['Favorite Soft Drink'].replace(fsd[i],i,inplace=True)\n",
    "df"
   ]
  },
  {
   "cell_type": "markdown",
   "metadata": {
    "papermill": {
     "duration": 0.038068,
     "end_time": "2020-11-07T06:04:13.672662",
     "exception": false,
     "start_time": "2020-11-07T06:04:13.634594",
     "status": "completed"
    },
    "tags": []
   },
   "source": [
    "* Gender"
   ]
  },
  {
   "cell_type": "code",
   "execution_count": 18,
   "metadata": {
    "execution": {
     "iopub.execute_input": "2020-11-07T06:04:13.765271Z",
     "iopub.status.busy": "2020-11-07T06:04:13.764390Z",
     "iopub.status.idle": "2020-11-07T06:04:13.768986Z",
     "shell.execute_reply": "2020-11-07T06:04:13.768510Z"
    },
    "papermill": {
     "duration": 0.057771,
     "end_time": "2020-11-07T06:04:13.769137",
     "exception": false,
     "start_time": "2020-11-07T06:04:13.711366",
     "status": "completed"
    },
    "tags": []
   },
   "outputs": [
    {
     "data": {
      "text/html": [
       "<div>\n",
       "<style scoped>\n",
       "    .dataframe tbody tr th:only-of-type {\n",
       "        vertical-align: middle;\n",
       "    }\n",
       "\n",
       "    .dataframe tbody tr th {\n",
       "        vertical-align: top;\n",
       "    }\n",
       "\n",
       "    .dataframe thead th {\n",
       "        text-align: right;\n",
       "    }\n",
       "</style>\n",
       "<table border=\"1\" class=\"dataframe\">\n",
       "  <thead>\n",
       "    <tr style=\"text-align: right;\">\n",
       "      <th></th>\n",
       "      <th>Favorite Color</th>\n",
       "      <th>Favorite Music Genre</th>\n",
       "      <th>Favorite Beverage</th>\n",
       "      <th>Favorite Soft Drink</th>\n",
       "      <th>Gender</th>\n",
       "    </tr>\n",
       "  </thead>\n",
       "  <tbody>\n",
       "    <tr>\n",
       "      <th>0</th>\n",
       "      <td>0</td>\n",
       "      <td>0</td>\n",
       "      <td>4</td>\n",
       "      <td>2</td>\n",
       "      <td>0</td>\n",
       "    </tr>\n",
       "    <tr>\n",
       "      <th>1</th>\n",
       "      <td>2</td>\n",
       "      <td>3</td>\n",
       "      <td>4</td>\n",
       "      <td>0</td>\n",
       "      <td>0</td>\n",
       "    </tr>\n",
       "    <tr>\n",
       "      <th>2</th>\n",
       "      <td>1</td>\n",
       "      <td>0</td>\n",
       "      <td>3</td>\n",
       "      <td>0</td>\n",
       "      <td>0</td>\n",
       "    </tr>\n",
       "    <tr>\n",
       "      <th>3</th>\n",
       "      <td>1</td>\n",
       "      <td>6</td>\n",
       "      <td>5</td>\n",
       "      <td>1</td>\n",
       "      <td>0</td>\n",
       "    </tr>\n",
       "    <tr>\n",
       "      <th>4</th>\n",
       "      <td>0</td>\n",
       "      <td>0</td>\n",
       "      <td>4</td>\n",
       "      <td>0</td>\n",
       "      <td>0</td>\n",
       "    </tr>\n",
       "    <tr>\n",
       "      <th>...</th>\n",
       "      <td>...</td>\n",
       "      <td>...</td>\n",
       "      <td>...</td>\n",
       "      <td>...</td>\n",
       "      <td>...</td>\n",
       "    </tr>\n",
       "    <tr>\n",
       "      <th>61</th>\n",
       "      <td>0</td>\n",
       "      <td>0</td>\n",
       "      <td>4</td>\n",
       "      <td>0</td>\n",
       "      <td>1</td>\n",
       "    </tr>\n",
       "    <tr>\n",
       "      <th>62</th>\n",
       "      <td>0</td>\n",
       "      <td>3</td>\n",
       "      <td>1</td>\n",
       "      <td>0</td>\n",
       "      <td>1</td>\n",
       "    </tr>\n",
       "    <tr>\n",
       "      <th>63</th>\n",
       "      <td>2</td>\n",
       "      <td>3</td>\n",
       "      <td>0</td>\n",
       "      <td>1</td>\n",
       "      <td>1</td>\n",
       "    </tr>\n",
       "    <tr>\n",
       "      <th>64</th>\n",
       "      <td>0</td>\n",
       "      <td>0</td>\n",
       "      <td>3</td>\n",
       "      <td>0</td>\n",
       "      <td>1</td>\n",
       "    </tr>\n",
       "    <tr>\n",
       "      <th>65</th>\n",
       "      <td>0</td>\n",
       "      <td>2</td>\n",
       "      <td>1</td>\n",
       "      <td>0</td>\n",
       "      <td>1</td>\n",
       "    </tr>\n",
       "  </tbody>\n",
       "</table>\n",
       "<p>66 rows × 5 columns</p>\n",
       "</div>"
      ],
      "text/plain": [
       "    Favorite Color  Favorite Music Genre  Favorite Beverage  \\\n",
       "0                0                     0                  4   \n",
       "1                2                     3                  4   \n",
       "2                1                     0                  3   \n",
       "3                1                     6                  5   \n",
       "4                0                     0                  4   \n",
       "..             ...                   ...                ...   \n",
       "61               0                     0                  4   \n",
       "62               0                     3                  1   \n",
       "63               2                     3                  0   \n",
       "64               0                     0                  3   \n",
       "65               0                     2                  1   \n",
       "\n",
       "    Favorite Soft Drink  Gender  \n",
       "0                     2       0  \n",
       "1                     0       0  \n",
       "2                     0       0  \n",
       "3                     1       0  \n",
       "4                     0       0  \n",
       "..                  ...     ...  \n",
       "61                    0       1  \n",
       "62                    0       1  \n",
       "63                    1       1  \n",
       "64                    0       1  \n",
       "65                    0       1  \n",
       "\n",
       "[66 rows x 5 columns]"
      ]
     },
     "execution_count": 18,
     "metadata": {},
     "output_type": "execute_result"
    }
   ],
   "source": [
    "for i in range(len(gen)):\n",
    "    df['Gender'].replace(gen[i],i,inplace=True)\n",
    "df"
   ]
  },
  {
   "cell_type": "markdown",
   "metadata": {
    "papermill": {
     "duration": 0.038935,
     "end_time": "2020-11-07T06:04:13.847673",
     "exception": false,
     "start_time": "2020-11-07T06:04:13.808738",
     "status": "completed"
    },
    "tags": []
   },
   "source": [
    "The data has been numerated now .\n",
    "\n",
    "We can perform some analysis now."
   ]
  },
  {
   "cell_type": "markdown",
   "metadata": {
    "papermill": {
     "duration": 0.038474,
     "end_time": "2020-11-07T06:04:13.924933",
     "exception": false,
     "start_time": "2020-11-07T06:04:13.886459",
     "status": "completed"
    },
    "tags": []
   },
   "source": [
    "# Pipeline"
   ]
  },
  {
   "cell_type": "markdown",
   "metadata": {
    "papermill": {
     "duration": 0.039068,
     "end_time": "2020-11-07T06:04:14.003755",
     "exception": false,
     "start_time": "2020-11-07T06:04:13.964687",
     "status": "completed"
    },
    "tags": []
   },
   "source": [
    "To predict the data we have to split the X and Y from the data"
   ]
  },
  {
   "cell_type": "code",
   "execution_count": 19,
   "metadata": {
    "execution": {
     "iopub.execute_input": "2020-11-07T06:04:14.088821Z",
     "iopub.status.busy": "2020-11-07T06:04:14.088138Z",
     "iopub.status.idle": "2020-11-07T06:04:14.090936Z",
     "shell.execute_reply": "2020-11-07T06:04:14.090425Z"
    },
    "papermill": {
     "duration": 0.048273,
     "end_time": "2020-11-07T06:04:14.091087",
     "exception": false,
     "start_time": "2020-11-07T06:04:14.042814",
     "status": "completed"
    },
    "tags": []
   },
   "outputs": [],
   "source": [
    "X_df=df.drop('Gender',1)\n",
    "y_df=df['Gender']"
   ]
  },
  {
   "cell_type": "code",
   "execution_count": 20,
   "metadata": {
    "execution": {
     "iopub.execute_input": "2020-11-07T06:04:14.175681Z",
     "iopub.status.busy": "2020-11-07T06:04:14.174897Z",
     "iopub.status.idle": "2020-11-07T06:04:14.179133Z",
     "shell.execute_reply": "2020-11-07T06:04:14.178416Z"
    },
    "papermill": {
     "duration": 0.048011,
     "end_time": "2020-11-07T06:04:14.179280",
     "exception": false,
     "start_time": "2020-11-07T06:04:14.131269",
     "status": "completed"
    },
    "tags": []
   },
   "outputs": [
    {
     "name": "stdout",
     "output_type": "stream",
     "text": [
      "shape of X_df : (66, 4)\n",
      "shape of y_df : (66,)\n"
     ]
    }
   ],
   "source": [
    "print('shape of X_df :',X_df.shape)\n",
    "print('shape of y_df :',y_df.shape)"
   ]
  },
  {
   "cell_type": "markdown",
   "metadata": {
    "papermill": {
     "duration": 0.084376,
     "end_time": "2020-11-07T06:04:14.303939",
     "exception": false,
     "start_time": "2020-11-07T06:04:14.219563",
     "status": "completed"
    },
    "tags": []
   },
   "source": [
    "As the data is very short we will use the whole data as training data and use itself in test also."
   ]
  },
  {
   "cell_type": "markdown",
   "metadata": {
    "papermill": {
     "duration": 0.039071,
     "end_time": "2020-11-07T06:04:14.382102",
     "exception": false,
     "start_time": "2020-11-07T06:04:14.343031",
     "status": "completed"
    },
    "tags": []
   },
   "source": [
    "Let's use some classifier to  predict the data and get a reasonable outcome"
   ]
  },
  {
   "cell_type": "markdown",
   "metadata": {
    "papermill": {
     "duration": 0.038848,
     "end_time": "2020-11-07T06:04:14.460111",
     "exception": false,
     "start_time": "2020-11-07T06:04:14.421263",
     "status": "completed"
    },
    "tags": []
   },
   "source": [
    "Let's try dummy clssifier first"
   ]
  },
  {
   "cell_type": "code",
   "execution_count": 21,
   "metadata": {
    "execution": {
     "iopub.execute_input": "2020-11-07T06:04:14.543115Z",
     "iopub.status.busy": "2020-11-07T06:04:14.542475Z",
     "iopub.status.idle": "2020-11-07T06:04:14.547759Z",
     "shell.execute_reply": "2020-11-07T06:04:14.547247Z"
    },
    "papermill": {
     "duration": 0.048781,
     "end_time": "2020-11-07T06:04:14.547872",
     "exception": false,
     "start_time": "2020-11-07T06:04:14.499091",
     "status": "completed"
    },
    "tags": []
   },
   "outputs": [
    {
     "data": {
      "text/plain": [
       "DummyClassifier()"
      ]
     },
     "execution_count": 21,
     "metadata": {},
     "output_type": "execute_result"
    }
   ],
   "source": [
    "model=DummyClassifier()\n",
    "model"
   ]
  },
  {
   "cell_type": "code",
   "execution_count": 22,
   "metadata": {
    "execution": {
     "iopub.execute_input": "2020-11-07T06:04:14.643806Z",
     "iopub.status.busy": "2020-11-07T06:04:14.643182Z",
     "iopub.status.idle": "2020-11-07T06:04:14.652205Z",
     "shell.execute_reply": "2020-11-07T06:04:14.651605Z"
    },
    "papermill": {
     "duration": 0.058837,
     "end_time": "2020-11-07T06:04:14.652329",
     "exception": false,
     "start_time": "2020-11-07T06:04:14.593492",
     "status": "completed"
    },
    "tags": []
   },
   "outputs": [
    {
     "name": "stdout",
     "output_type": "stream",
     "text": [
      "accuracy of the classifier : 0.5303030303030303\n"
     ]
    },
    {
     "name": "stderr",
     "output_type": "stream",
     "text": [
      "/opt/conda/lib/python3.7/site-packages/sklearn/dummy.py:132: FutureWarning: The default value of strategy will change from stratified to prior in 0.24.\n",
      "  \"stratified to prior in 0.24.\", FutureWarning)\n"
     ]
    }
   ],
   "source": [
    "x1=X_df\n",
    "y1=y_df\n",
    "model.fit(x1,y1)\n",
    "y_pred1=model.predict(x1)\n",
    "print('accuracy of the classifier :',model.score(x1,y1))"
   ]
  },
  {
   "cell_type": "markdown",
   "metadata": {
    "papermill": {
     "duration": 0.040391,
     "end_time": "2020-11-07T06:04:14.734131",
     "exception": false,
     "start_time": "2020-11-07T06:04:14.693740",
     "status": "completed"
    },
    "tags": []
   },
   "source": [
    "This classifier outputs a average prediction score as the data is very short"
   ]
  },
  {
   "cell_type": "markdown",
   "metadata": {
    "papermill": {
     "duration": 0.040267,
     "end_time": "2020-11-07T06:04:14.816103",
     "exception": false,
     "start_time": "2020-11-07T06:04:14.775836",
     "status": "completed"
    },
    "tags": []
   },
   "source": [
    "RandomForestClassifier"
   ]
  },
  {
   "cell_type": "code",
   "execution_count": 23,
   "metadata": {
    "execution": {
     "iopub.execute_input": "2020-11-07T06:04:14.903174Z",
     "iopub.status.busy": "2020-11-07T06:04:14.902372Z",
     "iopub.status.idle": "2020-11-07T06:04:14.905350Z",
     "shell.execute_reply": "2020-11-07T06:04:14.904827Z"
    },
    "papermill": {
     "duration": 0.048141,
     "end_time": "2020-11-07T06:04:14.905467",
     "exception": false,
     "start_time": "2020-11-07T06:04:14.857326",
     "status": "completed"
    },
    "tags": []
   },
   "outputs": [],
   "source": [
    "model=RandomForestClassifier(random_state=0)"
   ]
  },
  {
   "cell_type": "code",
   "execution_count": 24,
   "metadata": {
    "execution": {
     "iopub.execute_input": "2020-11-07T06:04:15.047443Z",
     "iopub.status.busy": "2020-11-07T06:04:15.025905Z",
     "iopub.status.idle": "2020-11-07T06:04:15.161595Z",
     "shell.execute_reply": "2020-11-07T06:04:15.162221Z"
    },
    "papermill": {
     "duration": 0.216039,
     "end_time": "2020-11-07T06:04:15.162412",
     "exception": false,
     "start_time": "2020-11-07T06:04:14.946373",
     "status": "completed"
    },
    "tags": []
   },
   "outputs": [
    {
     "name": "stdout",
     "output_type": "stream",
     "text": [
      "acuuracy of the model : 0.9545454545454546\n"
     ]
    }
   ],
   "source": [
    "model.fit(x1,y1)\n",
    "y_pred2=model.predict(x1)\n",
    "print('acuuracy of the model :',model.score(x1,y1))"
   ]
  },
  {
   "cell_type": "markdown",
   "metadata": {
    "papermill": {
     "duration": 0.042778,
     "end_time": "2020-11-07T06:04:15.248826",
     "exception": false,
     "start_time": "2020-11-07T06:04:15.206048",
     "status": "completed"
    },
    "tags": []
   },
   "source": [
    "Woah ! The RandomForest really gave a very good prediction over the training the data "
   ]
  },
  {
   "cell_type": "markdown",
   "metadata": {
    "papermill": {
     "duration": 0.041612,
     "end_time": "2020-11-07T06:04:15.332233",
     "exception": false,
     "start_time": "2020-11-07T06:04:15.290621",
     "status": "completed"
    },
    "tags": []
   },
   "source": [
    "* Support Vector Machine"
   ]
  },
  {
   "cell_type": "code",
   "execution_count": 25,
   "metadata": {
    "execution": {
     "iopub.execute_input": "2020-11-07T06:04:15.419960Z",
     "iopub.status.busy": "2020-11-07T06:04:15.418968Z",
     "iopub.status.idle": "2020-11-07T06:04:15.422029Z",
     "shell.execute_reply": "2020-11-07T06:04:15.421404Z"
    },
    "papermill": {
     "duration": 0.048633,
     "end_time": "2020-11-07T06:04:15.422158",
     "exception": false,
     "start_time": "2020-11-07T06:04:15.373525",
     "status": "completed"
    },
    "tags": []
   },
   "outputs": [],
   "source": [
    "model=svm.SVC()"
   ]
  },
  {
   "cell_type": "code",
   "execution_count": 26,
   "metadata": {
    "execution": {
     "iopub.execute_input": "2020-11-07T06:04:15.519815Z",
     "iopub.status.busy": "2020-11-07T06:04:15.519206Z",
     "iopub.status.idle": "2020-11-07T06:04:15.525411Z",
     "shell.execute_reply": "2020-11-07T06:04:15.524854Z"
    },
    "papermill": {
     "duration": 0.060687,
     "end_time": "2020-11-07T06:04:15.525528",
     "exception": false,
     "start_time": "2020-11-07T06:04:15.464841",
     "status": "completed"
    },
    "tags": []
   },
   "outputs": [
    {
     "name": "stdout",
     "output_type": "stream",
     "text": [
      "acuuracy of the model : 0.7424242424242424\n"
     ]
    }
   ],
   "source": [
    "model.fit(x1,y1)\n",
    "print('acuuracy of the model :',model.score(x1,y1))"
   ]
  },
  {
   "cell_type": "markdown",
   "metadata": {
    "papermill": {
     "duration": 0.04251,
     "end_time": "2020-11-07T06:04:15.610253",
     "exception": false,
     "start_time": "2020-11-07T06:04:15.567743",
     "status": "completed"
    },
    "tags": []
   },
   "source": [
    "This is a good accuracy . still less then RFC"
   ]
  },
  {
   "cell_type": "markdown",
   "metadata": {
    "papermill": {
     "duration": 0.041553,
     "end_time": "2020-11-07T06:04:15.693631",
     "exception": false,
     "start_time": "2020-11-07T06:04:15.652078",
     "status": "completed"
    },
    "tags": []
   },
   "source": [
    "* Gaussian Naive Bayes method"
   ]
  },
  {
   "cell_type": "code",
   "execution_count": 27,
   "metadata": {
    "execution": {
     "iopub.execute_input": "2020-11-07T06:04:15.782073Z",
     "iopub.status.busy": "2020-11-07T06:04:15.781438Z",
     "iopub.status.idle": "2020-11-07T06:04:15.784113Z",
     "shell.execute_reply": "2020-11-07T06:04:15.783472Z"
    },
    "papermill": {
     "duration": 0.048673,
     "end_time": "2020-11-07T06:04:15.784230",
     "exception": false,
     "start_time": "2020-11-07T06:04:15.735557",
     "status": "completed"
    },
    "tags": []
   },
   "outputs": [],
   "source": [
    "model=GaussianNB()"
   ]
  },
  {
   "cell_type": "code",
   "execution_count": 28,
   "metadata": {
    "execution": {
     "iopub.execute_input": "2020-11-07T06:04:15.878884Z",
     "iopub.status.busy": "2020-11-07T06:04:15.878114Z",
     "iopub.status.idle": "2020-11-07T06:04:15.881112Z",
     "shell.execute_reply": "2020-11-07T06:04:15.881685Z"
    },
    "papermill": {
     "duration": 0.055293,
     "end_time": "2020-11-07T06:04:15.881885",
     "exception": false,
     "start_time": "2020-11-07T06:04:15.826592",
     "status": "completed"
    },
    "tags": []
   },
   "outputs": [
    {
     "name": "stdout",
     "output_type": "stream",
     "text": [
      "acuuracy of the model : 0.6212121212121212\n"
     ]
    }
   ],
   "source": [
    "model.fit(x1,y1)\n",
    "print('acuuracy of the model :',model.score(x1,y1))"
   ]
  },
  {
   "cell_type": "markdown",
   "metadata": {
    "papermill": {
     "duration": 0.042651,
     "end_time": "2020-11-07T06:04:15.977529",
     "exception": false,
     "start_time": "2020-11-07T06:04:15.934878",
     "status": "completed"
    },
    "tags": []
   },
   "source": [
    "As naive bayes need huge amount of data to restore a good prediction that clearly results a less accurate prediction"
   ]
  },
  {
   "cell_type": "markdown",
   "metadata": {
    "papermill": {
     "duration": 0.043144,
     "end_time": "2020-11-07T06:04:16.064177",
     "exception": false,
     "start_time": "2020-11-07T06:04:16.021033",
     "status": "completed"
    },
    "tags": []
   },
   "source": [
    "***Conclusion*** :\n",
    "          * As the data is very small in size the classifier fails to perfectly fit the data and submit quite good accuracy.\n",
    "          * Still RFC has a better score than othr models.\n",
    "          * As decision tree models can fit appropriately over medium-small data ,it produces a larger accuracy.\n",
    "          \n",
    "          "
   ]
  },
  {
   "cell_type": "markdown",
   "metadata": {
    "papermill": {
     "duration": 0.042995,
     "end_time": "2020-11-07T06:04:16.150676",
     "exception": false,
     "start_time": "2020-11-07T06:04:16.107681",
     "status": "completed"
    },
    "tags": []
   },
   "source": [
    "# Please **UPVOTE** if you like it :)"
   ]
  },
  {
   "cell_type": "markdown",
   "metadata": {
    "papermill": {
     "duration": 0.042873,
     "end_time": "2020-11-07T06:04:16.236682",
     "exception": false,
     "start_time": "2020-11-07T06:04:16.193809",
     "status": "completed"
    },
    "tags": []
   },
   "source": [
    "You can join my discord server where I try to analyze over mant datasets: Discord Link : https://discord.gg/zSK9an6J (Atlantic Data Studio)"
   ]
  },
  {
   "cell_type": "markdown",
   "metadata": {
    "papermill": {
     "duration": 0.043484,
     "end_time": "2020-11-07T06:04:16.324101",
     "exception": false,
     "start_time": "2020-11-07T06:04:16.280617",
     "status": "completed"
    },
    "tags": []
   },
   "source": [
    "# THE END"
   ]
  }
 ],
 "metadata": {
  "kernelspec": {
   "display_name": "Python 3",
   "language": "python",
   "name": "python3"
  },
  "language_info": {
   "codemirror_mode": {
    "name": "ipython",
    "version": 3
   },
   "file_extension": ".py",
   "mimetype": "text/x-python",
   "name": "python",
   "nbconvert_exporter": "python",
   "pygments_lexer": "ipython3",
   "version": "3.7.6"
  },
  "papermill": {
   "duration": 12.784067,
   "end_time": "2020-11-07T06:04:16.473869",
   "environment_variables": {},
   "exception": null,
   "input_path": "__notebook__.ipynb",
   "output_path": "__notebook__.ipynb",
   "parameters": {},
   "start_time": "2020-11-07T06:04:03.689802",
   "version": "2.1.0"
  }
 },
 "nbformat": 4,
 "nbformat_minor": 4
}
